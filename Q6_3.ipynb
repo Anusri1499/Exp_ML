{
  "nbformat": 4,
  "nbformat_minor": 0,
  "metadata": {
    "colab": {
      "provenance": []
    },
    "kernelspec": {
      "name": "python3",
      "display_name": "Python 3"
    },
    "language_info": {
      "name": "python"
    }
  },
  "cells": [
    {
      "cell_type": "markdown",
      "source": [
        "Creating a long random string using a Python program, and using\n",
        "a lossless compression algorithm ( zlib) to compress\n",
        "the string."
      ],
      "metadata": {
        "id": "MRnUdztCXFM8"
      }
    },
    {
      "cell_type": "code",
      "execution_count": null,
      "metadata": {
        "colab": {
          "base_uri": "https://localhost:8080/"
        },
        "id": "NTa4rUc7K5HL",
        "outputId": "9e012bc8-a097-4c5b-9adf-0b842221dee4"
      },
      "outputs": [
        {
          "output_type": "stream",
          "name": "stdout",
          "text": [
            "Compression ratio: 1.329751868301375\n"
          ]
        }
      ],
      "source": [
        "import random\n",
        "import string\n",
        "import zlib\n",
        "\n",
        "# Generate a long random string\n",
        "random_string = ''.join(random.choices(string.ascii_letters + string.digits, k=100000))\n",
        "\n",
        "# Compress the random string using zlib\n",
        "compressed_data = zlib.compress(random_string.encode())\n",
        "\n",
        "# Calculate compression ratio\n",
        "compression_ratio =  len(random_string)/len(compressed_data)\n",
        "print(\"Compression ratio:\", compression_ratio)\n"
      ]
    }
  ]
}